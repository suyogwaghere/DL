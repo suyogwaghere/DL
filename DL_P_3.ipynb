{
  "cells": [
    {
      "cell_type": "code",
      "execution_count": 1,
      "id": "68048c1c",
      "metadata": {
        "id": "68048c1c"
      },
      "outputs": [],
      "source": [
        "import tensorflow as tf\n",
        "import pandas as pd\n",
        "from tensorflow import keras\n",
        "from keras.models import Sequential\n",
        "from keras.layers import Dense,Conv2D, Dropout, Flatten, MaxPooling2D\n",
        "import matplotlib.pyplot as plt\n",
        "import numpy as np"
      ]
    },
    {
      "cell_type": "code",
      "execution_count": 2,
      "id": "dce10bb5",
      "metadata": {
        "colab": {
          "base_uri": "https://localhost:8080/"
        },
        "id": "dce10bb5",
        "outputId": "203fcfad-a6ac-4ac6-e86c-286bf095b36a"
      },
      "outputs": [
        {
          "output_type": "stream",
          "name": "stdout",
          "text": [
            "Downloading data from https://storage.googleapis.com/tensorflow/tf-keras-datasets/mnist.npz\n",
            "11490434/11490434 [==============================] - 0s 0us/step\n"
          ]
        }
      ],
      "source": [
        "# Splitting into training and testing data\n",
        "(x_train,y_train),(x_test,y_test) = tf.keras.datasets.mnist.load_data()\n",
        "input_shape = (28,28,1)# input_shape is defined as (28, 28, 1) to represent the dimensions of the input images."
      ]
    },
    {
      "cell_type": "code",
      "execution_count": 3,
      "id": "5582f149",
      "metadata": {
        "id": "5582f149"
      },
      "outputs": [],
      "source": [
        "# Making sure that the values are float so that we can getdecimal points after division\n",
        "x_train = x_train.reshape(x_train.shape[0], 28, 28, 1)\n",
        "x_test = x_test.reshape(x_test.shape[0], 28, 28, 1)\n",
        "#The code reshapes the training and testing data to ensure it's in the format expected by the neural network.\n",
        "#It adds an extra dimension (1) to represent grayscale images."
      ]
    },
    {
      "cell_type": "code",
      "execution_count": 4,
      "id": "b4b6631e",
      "metadata": {
        "id": "b4b6631e"
      },
      "outputs": [],
      "source": [
        "# print(\"Data type of x_train:\", x_train.dtype)\n",
        "x_train = x_train.astype('float32')\n",
        "x_test = x_test.astype('float32')\n",
        "# print(\"Data type after converting to float:\", x_train.dtype)\n",
        "# The pixel values of the images are converted to float32 to work with decimal values in the subsequent calculations."
      ]
    },
    {
      "cell_type": "code",
      "execution_count": 5,
      "id": "ffade13a",
      "metadata": {
        "colab": {
          "base_uri": "https://localhost:8080/"
        },
        "id": "ffade13a",
        "outputId": "d7069531-1c7f-4a1d-d530-a33db2f8a43f"
      },
      "outputs": [
        {
          "output_type": "stream",
          "name": "stdout",
          "text": [
            "Shape of training :  (60000, 28, 28, 1)\n",
            "Shape of testing :  (10000, 28, 28, 1)\n"
          ]
        }
      ],
      "source": [
        "# Normalizing the RGB codes by divinding it into the max RGB value.\n",
        "x_train = x_train / 255\n",
        "x_test = x_test / 255\n",
        "#The pixel values are normalized by dividing them by 255, ensuring that they are within the range [0, 1].\n",
        "print(\"Shape of training : \", x_train.shape)\n",
        "print(\"Shape of testing : \", x_test.shape)\n",
        "#The print statements provide information about the shapes of the training and testing datasets."
      ]
    },
    {
      "cell_type": "code",
      "execution_count": 6,
      "id": "681b306b",
      "metadata": {
        "colab": {
          "base_uri": "https://localhost:8080/"
        },
        "id": "681b306b",
        "outputId": "dfbd7dda-47d6-434f-d802-ff86cdc40de2"
      },
      "outputs": [
        {
          "output_type": "stream",
          "name": "stdout",
          "text": [
            "Model: \"sequential\"\n",
            "_________________________________________________________________\n",
            " Layer (type)                Output Shape              Param #   \n",
            "=================================================================\n",
            " conv2d (Conv2D)             (None, 26, 26, 28)        280       \n",
            "                                                                 \n",
            " max_pooling2d (MaxPooling2  (None, 13, 13, 28)        0         \n",
            " D)                                                              \n",
            "                                                                 \n",
            " flatten (Flatten)           (None, 4732)              0         \n",
            "                                                                 \n",
            " dense (Dense)               (None, 200)               946600    \n",
            "                                                                 \n",
            " dropout (Dropout)           (None, 200)               0         \n",
            "                                                                 \n",
            " dense_1 (Dense)             (None, 10)                2010      \n",
            "                                                                 \n",
            "=================================================================\n",
            "Total params: 948890 (3.62 MB)\n",
            "Trainable params: 948890 (3.62 MB)\n",
            "Non-trainable params: 0 (0.00 Byte)\n",
            "_________________________________________________________________\n"
          ]
        }
      ],
      "source": [
        "# b. Defining the model’s architecture\n",
        "model = Sequential()\n",
        "model.add(Conv2D(28, kernel_size=(3,3), input_shape=input_shape))\n",
        "## The model starts with a convolutional layer (Conv2D) with 28 filters and a 3x3 kernel, taking the specified input shape.\n",
        "model.add(MaxPooling2D(pool_size=(2,2)))# A max-pooling layer (MaxPooling2D) follows with a 2x2 pool size.\n",
        "model.add(Flatten())#The Flatten layer reshapes the output to a 1D vector.\n",
        "model.add(Dense(200,activation = \"relu\"))#There's a fully connected layer (Dense) with 200 neurons and a ReLU activation function.\n",
        "model.add(Dropout(0.3))# A dropout layer is added to prevent overfitting.\n",
        "\n",
        "model.add(Dense(10,activation = \"softmax\"))\n",
        "model.summary()\n",
        "# The output layer is another Dense layer with 10 neurons and a softmax activation, representing the 10 digit classes."
      ]
    },
    {
      "cell_type": "code",
      "execution_count": 7,
      "id": "0aba7d29",
      "metadata": {
        "colab": {
          "base_uri": "https://localhost:8080/"
        },
        "id": "0aba7d29",
        "outputId": "f63b7d9d-7f50-4a86-c493-01ef82e60c95"
      },
      "outputs": [
        {
          "output_type": "stream",
          "name": "stdout",
          "text": [
            "Epoch 1/2\n",
            "1875/1875 [==============================] - 58s 31ms/step - loss: 0.2002 - accuracy: 0.9402\n",
            "Epoch 2/2\n",
            "1875/1875 [==============================] - 44s 23ms/step - loss: 0.0827 - accuracy: 0.9748\n"
          ]
        },
        {
          "output_type": "execute_result",
          "data": {
            "text/plain": [
              "<keras.src.callbacks.History at 0x7e27edd9a710>"
            ]
          },
          "metadata": {},
          "execution_count": 7
        }
      ],
      "source": [
        "# c. Training the model\n",
        "model.compile(optimizer=\"adam\",\n",
        "loss=\"sparse_categorical_crossentropy\",metrics=['accuracy'])\n",
        "# The code compiles the model with the Adam optimizer, sparse categorical cross-entropy as the loss function, and accuracy as\n",
        "#the metric to monitor.\n",
        "model.fit(x_train,y_train,epochs=2)#It then trains the model on the training data for 2 epochs.\n"
      ]
    },
    {
      "cell_type": "code",
      "execution_count": 8,
      "id": "32fe687d",
      "metadata": {
        "colab": {
          "base_uri": "https://localhost:8080/"
        },
        "id": "32fe687d",
        "outputId": "1d807279-7ccd-42fa-9634-4041ea718a74"
      },
      "outputs": [
        {
          "output_type": "stream",
          "name": "stdout",
          "text": [
            "313/313 [==============================] - 4s 12ms/step - loss: 0.0584 - accuracy: 0.9813\n",
            "Loss=0.058\n",
            "Accuracy=0.981\n"
          ]
        }
      ],
      "source": [
        "# d. Estimating the model’s performance\n",
        "test_loss, test_acc = model.evaluate(x_test, y_test)\n",
        "print(\"Loss=%.3f\" %test_loss)\n",
        "print(\"Accuracy=%.3f\" %test_acc)\n",
        "# The code evaluates the trained model on the testing data and prints the loss and accuracy results."
      ]
    },
    {
      "cell_type": "code",
      "execution_count": 9,
      "id": "4b0c6c23",
      "metadata": {
        "colab": {
          "base_uri": "https://localhost:8080/",
          "height": 430
        },
        "id": "4b0c6c23",
        "outputId": "c7cef49e-9ca3-4c1a-ea0a-f4d351d818b5"
      },
      "outputs": [
        {
          "output_type": "display_data",
          "data": {
            "text/plain": [
              "<Figure size 640x480 with 1 Axes>"
            ],
            "image/png": "[encoded data removed]"
          },
          "metadata": {}
        }
      ],
      "source": [
        "# Showing image at positions[] from dataset:\n",
        "image = x_train[6]# This code displays an image from the training dataset, specifically the image at position 6.\n",
        "plt.imshow(np.squeeze(image), cmap='gray')\n",
        "plt.show()#The image is shown in grayscale using plt.imshow."
      ]
    },
    {
      "cell_type": "code",
      "execution_count": 10,
      "id": "7793ef2c",
      "metadata": {
        "colab": {
          "base_uri": "https://localhost:8080/"
        },
        "id": "7793ef2c",
        "outputId": "b48c50ee-4b66-4d08-e647-0038c9738f9a"
      },
      "outputs": [
        {
          "output_type": "stream",
          "name": "stdout",
          "text": [
            "1/1 [==============================] - 0s 98ms/step\n",
            "Predicted class 1:\n"
          ]
        }
      ],
      "source": [
        "# Predicting the class of image :\n",
        "image = image.reshape(1, image.shape[0], image.shape[1], image.shape[2])\n",
        "# The code reshapes the image to match the expected input shape.\n",
        "predict_model = model.predict([image])\n",
        "print(\"Predicted class {}:\" .format(np.argmax(predict_model)))\n",
        "# t then uses the trained model to predict the class of the image and prints the predicted class, which is the digit it recognizes."
      ]
    },
    {
      "cell_type": "code",
      "execution_count": 10,
      "id": "ddd5b9d4",
      "metadata": {
        "id": "ddd5b9d4"
      },
      "outputs": [],
      "source": []
    },
    {
      "cell_type": "code",
      "execution_count": 10,
      "id": "74c624ef",
      "metadata": {
        "id": "74c624ef"
      },
      "outputs": [],
      "source": []
    }
  ],
  "metadata": {
    "kernelspec": {
      "display_name": "Python 3 (ipykernel)",
      "language": "python",
      "name": "python3"
    },
    "language_info": {
      "codemirror_mode": {
        "name": "ipython",
        "version": 3
      },
      "file_extension": ".py",
      "mimetype": "text/x-python",
      "name": "python",
      "nbconvert_exporter": "python",
      "pygments_lexer": "ipython3",
      "version": "3.9.13"
    },
    "colab": {
      "provenance": []
    }
  },
  "nbformat": 4,
  "nbformat_minor": 5
}